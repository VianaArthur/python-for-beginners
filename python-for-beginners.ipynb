{
  "nbformat": 4,
  "nbformat_minor": 0,
  "metadata": {
    "colab": {
      "name": "PYTHON PARA INICIANTES",
      "provenance": [],
      "collapsed_sections": [
        "1lUufZOZ-z8r"
      ],
      "authorship_tag": "ABX9TyOyCEw/oHMLEGLacMdW3Rkk",
      "include_colab_link": true
    },
    "kernelspec": {
      "name": "python3",
      "display_name": "Python 3"
    },
    "language_info": {
      "name": "python"
    }
  },
  "cells": [
    {
      "cell_type": "markdown",
      "metadata": {
        "id": "view-in-github",
        "colab_type": "text"
      },
      "source": [
        "<a href=\"https://colab.research.google.com/github/VianaArthur/python-for-beginners/blob/main/python-for-beginners.ipynb\" target=\"_parent\"><img src=\"https://colab.research.google.com/assets/colab-badge.svg\" alt=\"Open In Colab\"/></a>"
      ]
    },
    {
      "cell_type": "markdown",
      "metadata": {
        "id": "1lUufZOZ-z8r"
      },
      "source": [
        "# **Introdução**\n",
        "\n",
        "[![wazana.dev - Tecnologia direto ao ponto.](https://www.wazana.dev/_next/image?url=%2Fimages%2Flogo.png&w=384&q=100\n",
        "\"wazana.dev - Tecnologia direto ao ponto.\")](https://www.wazana.dev/)\n",
        "\n",
        "Este tutorial foi criado para quem tem conhecimentos básicos de programação e está interessado em aprender **Python** pelo nível mais básico."
      ]
    },
    {
      "cell_type": "markdown",
      "metadata": {
        "id": "YZ0I0paA-5lN"
      },
      "source": [
        "# Executando o primeiro código\n",
        "\n",
        "**Como o código é executado?**\n",
        "\n",
        "- Linha por linha;\n",
        "- A partir do topo;\n",
        "- Da esquerda para a direita;\n",
        "- O interpretador Python é responsável por traduzir e interpretar nosso código e transformar em instruções para o computador."
      ]
    },
    {
      "cell_type": "code",
      "metadata": {
        "id": "Bor8TLNq5FDZ"
      },
      "source": [
        "print(\"Hello World\")\n",
        "print()\n",
        "print(1, 2, 3)\n",
        "print(\"Arthur\", 27, 1.78, sep=\"___\")"
      ],
      "execution_count": null,
      "outputs": []
    },
    {
      "cell_type": "markdown",
      "metadata": {
        "id": "MfLYQ0YXBHNd"
      },
      "source": [
        "# Variáveis\n",
        "\n",
        "São utilizadas para armazenar dados temporariamente na memória de um computador. \n",
        "\n",
        "Podemos declarar, utilizar e manipular variáveis.\n",
        "\n",
        "**Regras:**\n",
        "- Deve começar com letra ou undescore;\n",
        "- Não pode começar com número;\n",
        "- Pode conter somente caracteres alfanúmerios e undescore (A-z, 0-9, e _ );\n",
        "- Os nomes são case-sensitive (age, Age, AGE)."
      ]
    },
    {
      "cell_type": "code",
      "metadata": {
        "id": "GKB0ICQoCYnu"
      },
      "source": [
        "# Definindo variáveis e armazenando valores\n",
        "name = \"Arthur\" # string\n",
        "age = 27 # integer\n",
        "height = 1.78 # float\n",
        "is_online = True # boolean\n",
        "\n",
        "# Reatribuindo valores\n",
        "age = 25\n",
        "is_online = False\n",
        "\n",
        "# Utilizando as variáveis\n",
        "print(name.upper())\n",
        "\n",
        "print(name, age, height, is_online)"
      ],
      "execution_count": null,
      "outputs": []
    },
    {
      "cell_type": "markdown",
      "metadata": {
        "id": "63in_IwdELwl"
      },
      "source": [
        "**Definindo variáveis de uma pessoa que estuda com a wazana.dev:**\n",
        "\n",
        "- Pessoa chamada Maria;\n",
        "- Já assistiu 10 vídeos da plataforma;\n",
        "- Entrou e já é membro da <a href=\"https://discord.gg/rsMPXWxF4m\">comunidade da wazana.dev no Discord</a>. "
      ]
    },
    {
      "cell_type": "code",
      "metadata": {
        "id": "AUS7kn4-Eilg"
      },
      "source": [
        "name = \"Maria\"\n",
        "videos_count = 10\n",
        "is_member = True\n",
        "\n",
        "print(\"Nome:\", name)\n",
        "print(\"Qnt. videos:\", videos_count)\n",
        "print(\"Membro discord:\", is_member)"
      ],
      "execution_count": null,
      "outputs": []
    },
    {
      "cell_type": "markdown",
      "metadata": {
        "id": "JWRRK_dpGJbl"
      },
      "source": [
        "# Recebendo Input\n",
        "\n",
        "Recebendo a entrada de usuário e armazendo em uma variável."
      ]
    },
    {
      "cell_type": "code",
      "metadata": {
        "id": "zDFm1LUaJL6i"
      },
      "source": [
        "user_name = input(\"Qual o seu nome? \")\n",
        "print(\"Olá, \" + user_name)"
      ],
      "execution_count": null,
      "outputs": []
    },
    {
      "cell_type": "markdown",
      "metadata": {
        "id": "cUJH-OmzHVw5"
      },
      "source": [
        "# Convertendo tipos de dados\n",
        "\n",
        "**Funções:**\n",
        "- `int()` gera um número **inteiro** a partir de um inteiro, um float, ou uma string;\n",
        "- `float()` gera um número **decimal** a partir de um inteiro, um float ou uma string;\n",
        "- `str()` gera um **string** a partir de qualquer dado como string, inteiros ou floats;\n",
        "- `bool()` gera um resultado True (Verdadeiro) ou False (Falso) a partir de qualquer valor."
      ]
    },
    {
      "cell_type": "code",
      "metadata": {
        "id": "CeEvP3dJJ7e2"
      },
      "source": [
        "birth_year = input(\"Ano de nascimento: \")\n",
        "print(type(birth_year)) # Verificando o tipo de dado da variável\n",
        "\n",
        "age = 2021 - int(birth_year)\n",
        "print(type(age))\n",
        "\n",
        "print(age)"
      ],
      "execution_count": null,
      "outputs": []
    },
    {
      "cell_type": "markdown",
      "metadata": {
        "id": "s0pq-XC3Lklc"
      },
      "source": [
        "# Operadores aritméticos\n",
        "\n",
        "- Adição\n",
        "- Subtração\n",
        "- Multiplicação\n",
        "- Divisão (sempre resulta em float)"
      ]
    },
    {
      "cell_type": "code",
      "metadata": {
        "id": "2C6jE3oIObx5"
      },
      "source": [
        "# Adição \n",
        "sum = 1 + 1\n",
        "print(\"sum:\", sum)\n",
        "\n",
        "# Subtração\n",
        "sub = 8 - 4\n",
        "print(\"sub:\", sub)\n",
        "\n",
        "# Multiplicação\n",
        "mult = 3 * 2\n",
        "print(\"mult:\", mult)\n",
        "\n",
        "# Divisão\n",
        "div = 16 / 2\n",
        "print(\"div:\", div)\n",
        "\n",
        "# Exponenciação\n",
        "exp = 10 ** 3\n",
        "print(\"exp:\", exp)\n",
        "\n",
        "# Módulo - Retorna o resto da divisão\n",
        "mod = 10 % 3\n",
        "print(\"mod:\", mod)\n",
        "\n",
        "# Divisão inteira\n",
        "floor = 3 // 2\n",
        "print(\"floor\", floor)"
      ],
      "execution_count": null,
      "outputs": []
    },
    {
      "cell_type": "markdown",
      "metadata": {
        "id": "wMvPKEL9LlbR"
      },
      "source": [
        "**Regras de precedência:**\n",
        "\n",
        "- Parênteses\n",
        "- Exponenciação\n",
        "- Multiplicação e divisão\n",
        "- Adição e subtração"
      ]
    },
    {
      "cell_type": "code",
      "metadata": {
        "id": "UP_4ICnTP5Rk"
      },
      "source": [
        "# Parênteses é avaliado primeiro\n",
        "a = 2 * (3 - 1)\n",
        "print(\"a:\", a)\n",
        "\n",
        "# Multiplicação é avaliada primeiro\n",
        "b = 4 * 5 - 2\n",
        "print(\"b:\", b)\n",
        "\n",
        "# Operadores de mesma precedência, considerar da esquerda para direira\n",
        "c = 10 / 2 * 2\n",
        "print(\"c:\", c)\n",
        "\n",
        "# Parênteses é avaliado primeiro\n",
        "d = 20 / (3 * 2)\n",
        "print(\"d:\", d)\n",
        "\n",
        "x = 2**3**2 # equivale a 2**(3**2)\n",
        "print(\"x:\", x)\n",
        "\n",
        "# Parênteses é avaliado primeiro\n",
        "y = (2**3)**2 \n",
        "print(\"y:\", y)"
      ],
      "execution_count": null,
      "outputs": []
    },
    {
      "cell_type": "markdown",
      "metadata": {
        "id": "jWQLFWd7qYL6"
      },
      "source": [
        "# Estrutura condicional If-Else-Elif\n",
        "\n",
        "Verifica uma condição e executa uma determinada ação com base no resultado.\n",
        "\n",
        "**Tipos:**\n",
        "\n",
        "- `if` Se...\n",
        "- `elif` Se a condiçao anterior não foi atendida, tente esta condição\n",
        "- `else` Senão..."
      ]
    },
    {
      "cell_type": "code",
      "metadata": {
        "id": "guvios5qrKZW"
      },
      "source": [
        "is_raining = False\n",
        "is_cold = False\n",
        "\n",
        "if is_cold:\n",
        "  print(\"Levar agasalho\")\n",
        "elif is_raining:\n",
        "  print(\"Levar guarda-chuva\")\n",
        "else:\n",
        "  print(\"Levar camiseta\")\n",
        "  \n",
        "print(\"Aproveitar o dia!\")  "
      ],
      "execution_count": null,
      "outputs": []
    },
    {
      "cell_type": "markdown",
      "metadata": {
        "id": "rGmhDcN2djE1"
      },
      "source": [
        "# Operadores de comparação\n",
        "\n",
        "São utilizados para realizar a comparação entre 2 valores, retornando **True** ou **False**.\n",
        "\n",
        "**Tipos:**\n",
        "\n",
        "- `==` Igual a\n",
        "- `!=` Diferente de\n",
        "- `>` Maior que\n",
        "- `<` Menor que\n",
        "- `>=` Maior ou igual a\n",
        "- `<=` Menor ou igual a"
      ]
    },
    {
      "cell_type": "code",
      "metadata": {
        "id": "n7oOa1rrfbY6"
      },
      "source": [
        "# Verificando comprimento de senha\n",
        "pwd = \"password\"\n",
        "\n",
        "if len(pwd) < 3:\n",
        "  print(\"A senha é muito pequena\")\n",
        "elif len(pwd) >= 10:\n",
        "  print(\"A senha é grande demais\")\n",
        "else:\n",
        "  print(\"O comprimento da senha está OK\")\n",
        "\n",
        "  # Validando igualdade\n",
        "  if pwd != \"password\":\n",
        "    print(\"A senha está incorreta\")\n",
        "  else:\n",
        "    print(\"Senha correta\")"
      ],
      "execution_count": null,
      "outputs": []
    },
    {
      "cell_type": "markdown",
      "metadata": {
        "id": "SQLSF7dAh3Oz"
      },
      "source": [
        "# Operadores lógicos\n",
        "\n",
        "São utilizados para unir duas ou mais expressões condicionais.\n",
        "\n",
        "**Tipos:**\n",
        "\n",
        "- `and` Retorna True se **todas as condições** foram verdadeiras\n",
        "- `or` Retorna True se **pelo menos uma condição** for verdadeira\n",
        "- `not` **Inverte** o resultado, returna False se o resultado for True e vice-versa"
      ]
    },
    {
      "cell_type": "code",
      "metadata": {
        "id": "AEu0V-yJpRm4"
      },
      "source": [
        "# Verificando valores\n",
        "value = 5\n",
        "\n",
        "if value >= 10 or value < 35:\n",
        "  print(\"O valor está entre os limites desejados\")"
      ],
      "execution_count": null,
      "outputs": []
    },
    {
      "cell_type": "code",
      "metadata": {
        "id": "L_aNWfSSqZww"
      },
      "source": [
        "# Verificando um cupom\n",
        "is_correct = True\n",
        "has_debt = False\n",
        "\n",
        "if is_correct and not has_debt:\n",
        "  print(\"Pode utilizar o cupom\")\n",
        "else:\n",
        "  print(\"Não pode utilizar o cupom\")"
      ],
      "execution_count": null,
      "outputs": []
    },
    {
      "cell_type": "markdown",
      "metadata": {
        "id": "bNq-xjC3tmfA"
      },
      "source": [
        "# Estrutura de repetição While\n",
        "\n",
        "Executa um conjunto de instruções enquanto uma condição é atendida.\n",
        "\n",
        "Quando a condição não é mais atendida, a execução é interrompida e passa para o próximo bloco."
      ]
    },
    {
      "cell_type": "code",
      "metadata": {
        "id": "4irXaQOxu_ql"
      },
      "source": [
        "count = 1\n",
        "\n",
        "while count <= 5:\n",
        "  print(\"*\" * count)\n",
        "  print(count)\n",
        "\n",
        "  count += 1\n",
        "\n",
        "print(\"Fim\")"
      ],
      "execution_count": null,
      "outputs": []
    },
    {
      "cell_type": "markdown",
      "metadata": {
        "id": "67BbvMxC0A9L"
      },
      "source": [
        "# Estrutura de repetição For\n",
        "\n",
        "Nos permite percorrer os itens de uma sequência e para cada um deles executar um bloco de código."
      ]
    },
    {
      "cell_type": "code",
      "metadata": {
        "id": "XITtwrSa0CCR"
      },
      "source": [
        "for char in \"wazana\":\n",
        "  print(char.upper())"
      ],
      "execution_count": null,
      "outputs": []
    },
    {
      "cell_type": "code",
      "metadata": {
        "id": "qdWPDNeK0raO"
      },
      "source": [
        "# List é utilizada para armazenar diversos itens em uma variável\n",
        "for item in [\"Arthur\", \"wazana\", \"Python\"]:\n",
        "  print(item)"
      ],
      "execution_count": null,
      "outputs": []
    },
    {
      "cell_type": "code",
      "metadata": {
        "id": "C1QqAsw51EB1"
      },
      "source": [
        "for num in range(10): # Retorna um conjunto de números sequenciais\n",
        "  print(num)"
      ],
      "execution_count": null,
      "outputs": []
    },
    {
      "cell_type": "code",
      "metadata": {
        "id": "6D-fBHRn1SrP"
      },
      "source": [
        "# Calculando o total da soma dos preços de uma lista\n",
        "prices = [15, 30, 45]\n",
        "total = 0\n",
        "\n",
        "for price in prices:\n",
        "  total += price\n",
        "\n",
        "print(f\"Total: {total}\")"
      ],
      "execution_count": null,
      "outputs": []
    },
    {
      "cell_type": "markdown",
      "metadata": {
        "id": "rtVCnF1P_2cx"
      },
      "source": [
        "# Listas\n",
        "\n",
        "São utilizadas para armazenar diversos itens em uma única variável.\n",
        "\n",
        "- Representa uma coleção de itens;\n",
        "- Permite valores duplicados;\n",
        "- Separados por vírgula;\n",
        "- Definidos dentro de **colchetes** `[]`."
      ]
    },
    {
      "cell_type": "code",
      "metadata": {
        "id": "joybJUdUDrzY"
      },
      "source": [
        "# Lista com nomes (string) e números (int)\n",
        "wazana_data = [\"Arthur Viana\", \"Lucas Fernando\", \"Lucas Nhimi\", 2021]\n",
        "print(wazana_data)\n",
        "\n",
        "# Acessando itens da lista pelo índice\n",
        "print(wazana_data[0])\n",
        "print(wazana_data[3])\n",
        "\n",
        "# Índice negativo indica para começar do fim, -1 refere-se ao último item\n",
        "print(wazana_data[-3])\n",
        "\n",
        "# Obtendo quantidade de itens\n",
        "print(len(wazana_data))\n",
        "\n",
        "# Sobrescrevendo o valor de algum item\n",
        "wazana_data[3] = \"Python\"\n",
        "print(wazana_data)\n",
        "\n",
        "# Unpacking\n",
        "instr_1, instr_2, instr_3, tech = wazana_data\n",
        "print(instr_1, instr_2, instr_3, tech)"
      ],
      "execution_count": null,
      "outputs": []
    },
    {
      "cell_type": "code",
      "metadata": {
        "id": "RuzCIGFOFxUe"
      },
      "source": [
        "numbers = [7, 5, 9, 2, 11]\n",
        "\n",
        "# Adicionando um item ao final da lista\n",
        "numbers.append(23)\n",
        "print(numbers)\n",
        "\n",
        "# Adicionando um item em qualquer posição\n",
        "numbers.insert(2, 15)\n",
        "print(numbers)\n",
        "\n",
        "# Vericando se a lista contem um item especifico\n",
        "has_item = 5 in numbers\n",
        "print(has_item)\n",
        "\n",
        "# Ordenando\n",
        "numbers.sort() # Crescente\n",
        "print(numbers)\n",
        "\n",
        "numbers.sort(reverse=True) # Decrescente\n",
        "print(numbers)\n",
        "\n",
        "# Removendo itens\n",
        "numbers.pop() # Remove o último item\n",
        "print(numbers)\n",
        "\n",
        "numbers.clear() # Remove todos os itens\n",
        "print(numbers)"
      ],
      "execution_count": null,
      "outputs": []
    },
    {
      "cell_type": "markdown",
      "metadata": {
        "id": "N0QuPSupIQK-"
      },
      "source": [
        "# Tuples\n",
        "\n",
        "São utilizadas para armazenar diversos itens em uma única variável.\n",
        "\n",
        "- Representa uma coleção de itens;\n",
        "- Permite valores duplicados;\n",
        "- Separados por vírgula;\n",
        "- Não permite modificar, adicionar e nem remover os itens;\n",
        "- Definidos dentro de **parênteses** `()`."
      ]
    },
    {
      "cell_type": "code",
      "metadata": {
        "id": "HhOHvR8NI1YF"
      },
      "source": [
        "fruits = (\"uva\", \"banana\", \"laranja\", \"uva\")\n",
        "print(fruits)\n",
        "\n",
        "print(fruits.count(\"banana\"))\n",
        "print(fruits.index(\"uva\"))\n",
        "print(fruits[2])"
      ],
      "execution_count": null,
      "outputs": []
    },
    {
      "cell_type": "markdown",
      "metadata": {
        "id": "xqZEYZMJJ-VR"
      },
      "source": [
        "# Sets\n",
        "\n",
        "São utilizados para armazenar diversos itens em uma única variável.\n",
        "\n",
        "- Representa uma coleção de itens;\n",
        "- Não permite valores duplicados;\n",
        "- Não permite modificar o conteúdo dos itens, mas permite adicionar ou remover;\n",
        "- Não possui ordenação nem índice;\n",
        "- Separados por vírgula;\n",
        "- Definidos dentro de **chaves** `{}`."
      ]
    },
    {
      "cell_type": "code",
      "metadata": {
        "id": "VWtokntULRpf"
      },
      "source": [
        "items = {8, \"python\", 11, 8, \"iniciante\", 2, \"python\"}\n",
        "print(items)\n",
        "\n",
        "for item in items:\n",
        "  print(item)\n",
        "\n",
        "items.add(33)\n",
        "items.discard(11)\n",
        "print(items)"
      ],
      "execution_count": null,
      "outputs": []
    },
    {
      "cell_type": "markdown",
      "metadata": {
        "id": "_pHtzf3WNJji"
      },
      "source": [
        "# Dicionários\n",
        "\n",
        "São utilizados para armazenar diversos itens em uma única variável.\n",
        "\n",
        "- Representa uma coleção de itens;\n",
        "- Os elementos contém chave e valor (key:value pairs);\n",
        "- Separados por vírgula;\n",
        "- Definidos dentro de **chaves** `{}`."
      ]
    },
    {
      "cell_type": "code",
      "metadata": {
        "id": "DM0cedhzOC_o"
      },
      "source": [
        "student = {\n",
        "    \"name\": \"Maria\",\n",
        "    \"videos_count\": 10,\n",
        "    \"is_member\": True\n",
        "}\n",
        "\n",
        "print(student)\n",
        "print(student[\"videos_count\"])\n",
        "print(student.get(\"is_member\", False))\n",
        "\n",
        "student[\"skills\"] = [\"python\", \"react\", \"next.js\"]\n",
        "print(student)\n",
        "print(student.get(\"skills\"))"
      ],
      "execution_count": null,
      "outputs": []
    },
    {
      "cell_type": "markdown",
      "metadata": {
        "id": "XroHtoKkClyn"
      },
      "source": [
        "# Funções\n",
        "\n",
        "Bloco de código que somente é executado quando é chamado e pode ser reutilizado em diversos locais.\n",
        "\n",
        "- Definimos uma função com `def`;\n",
        "- A definição da função deve estar sempre presente antes de ser chamada;\n",
        "- Podemos passar dados (parâmetros);\n",
        "- Podemos retornar dados como resultado utilizando `return`."
      ]
    },
    {
      "cell_type": "code",
      "metadata": {
        "id": "BD9DchzzCq8e"
      },
      "source": [
        "def greet():\n",
        "  print(\"Olá!\")\n",
        "  print(\"Seja bem-vindo(a).\")\n",
        "\n",
        "print(\"Início\")\n",
        "greet()\n",
        "print(\"Fim\")"
      ],
      "execution_count": null,
      "outputs": []
    },
    {
      "cell_type": "code",
      "metadata": {
        "id": "bdWw7Wkkgr-T"
      },
      "source": [
        "def greet_user(first_name=\"\", last_name=\"\"):\n",
        "  print(f\"Olá, {first_name} {last_name}.\")\n",
        "\n",
        "greet_user(\"Arthur\", \"Viana\")\n",
        "greet_user(\"Viana\", \"Arthur\")\n",
        "greet_user(last_name=\"Viana\", first_name=\"Arthur\")\n",
        "greet_user(\"Arthur\")"
      ],
      "execution_count": null,
      "outputs": []
    },
    {
      "cell_type": "code",
      "metadata": {
        "id": "z2jxQ9IJh26W"
      },
      "source": [
        "def calc_total_cost(price, shipping, discount):\n",
        "  total = (price + shipping) * (1 - discount/100)\n",
        "  return total\n",
        "\n",
        "print(calc_total_cost(95, 5, 5))\n",
        "print(calc_total_cost(250, 15, 8))"
      ],
      "execution_count": null,
      "outputs": []
    },
    {
      "cell_type": "markdown",
      "metadata": {
        "id": "Wrwo6LpukGJp"
      },
      "source": [
        "# Classes\n",
        "\n",
        "- Utilizadas para criar um novo tipo de objeto;\n",
        "- Jeito prático de unir dados e funcionalidades;\n",
        "- Definimos uma classe com `class`."
      ]
    },
    {
      "cell_type": "code",
      "metadata": {
        "id": "e8MYJOWEkIZQ"
      },
      "source": [
        "# Definição da classe pessoa\n",
        "class Person():\n",
        "  # Método inicial ou construtor da classe\n",
        "  def __init__(self, first_name, last_name):\n",
        "    # Variáveis de instância\n",
        "    self.first_name = first_name\n",
        "    self.last_name = last_name\n",
        "\n",
        "  def say_hello(self):\n",
        "    print(f\"Olá, meu nome é {self.first_name} {self.last_name}\")\n",
        "\n",
        "person_1 = Person(\"Arthur\", \"Viana\")\n",
        "print(person_1.last_name)\n",
        "person_1.say_hello()"
      ],
      "execution_count": null,
      "outputs": []
    },
    {
      "cell_type": "code",
      "metadata": {
        "id": "gi18SEhVnJO-"
      },
      "source": [
        "# Herdando os métodos e propriedades da classe base\n",
        "class Student(Person):\n",
        "  def __init__(self, first_name, last_name, skills):\n",
        "    super().__init__(first_name, last_name)\n",
        "    self.skills = skills\n",
        "\n",
        "  def get_skills(self):\n",
        "    print(f\"Possuo conhecimentos de programação em: {', '.join(self.skills)}.\")\n",
        "\n",
        "student_1 = Student(\"Arthur\", \"Viana\", [\"python\", \"next.js\", \"react\"])\n",
        "student_1.say_hello()\n",
        "student_1.get_skills()\n",
        "print(student_1.skills)"
      ],
      "execution_count": null,
      "outputs": []
    }
  ]
}